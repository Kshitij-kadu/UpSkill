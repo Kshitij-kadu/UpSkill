{
 "cells": [
  {
   "cell_type": "code",
   "execution_count": 10,
   "metadata": {},
   "outputs": [],
   "source": [
    "import findspark"
   ]
  },
  {
   "cell_type": "code",
   "execution_count": 11,
   "metadata": {},
   "outputs": [],
   "source": [
    "findspark.init()"
   ]
  },
  {
   "cell_type": "code",
   "execution_count": 12,
   "metadata": {},
   "outputs": [],
   "source": [
    "from pyspark.sql import SparkSession"
   ]
  },
  {
   "cell_type": "code",
   "execution_count": 13,
   "metadata": {},
   "outputs": [],
   "source": [
    "spark = SparkSession. \\\n",
    "            builder. \\\n",
    "            master('local'). \\\n",
    "            appName(\"practice\"). \\\n",
    "            getOrCreate()"
   ]
  },
  {
   "cell_type": "code",
   "execution_count": 14,
   "metadata": {
    "scrolled": true
   },
   "outputs": [
    {
     "data": {
      "text/html": [
       "\n",
       "            <div>\n",
       "                <p><b>SparkSession - in-memory</b></p>\n",
       "                \n",
       "        <div>\n",
       "            <p><b>SparkContext</b></p>\n",
       "\n",
       "            <p><a href=\"http://host.docker.internal:4040\">Spark UI</a></p>\n",
       "\n",
       "            <dl>\n",
       "              <dt>Version</dt>\n",
       "                <dd><code>v3.1.3</code></dd>\n",
       "              <dt>Master</dt>\n",
       "                <dd><code>local</code></dd>\n",
       "              <dt>AppName</dt>\n",
       "                <dd><code>practice</code></dd>\n",
       "            </dl>\n",
       "        </div>\n",
       "        \n",
       "            </div>\n",
       "        "
      ],
      "text/plain": [
       "<pyspark.sql.session.SparkSession at 0x178c1254e48>"
      ]
     },
     "execution_count": 14,
     "metadata": {},
     "output_type": "execute_result"
    }
   ],
   "source": [
    "spark"
   ]
  },
  {
   "cell_type": "markdown",
   "metadata": {},
   "source": [
    "Get order count per customer for the month of 2014 January.\n",
    "\n",
    " orders and customers\n",
    " \n",
    "Data should be sorted in descending order by count and ascending order by customer id.\n",
    "Output should contain customer_id, customer_first_name, customer_last_name and customer_order_count."
   ]
  },
  {
   "cell_type": "code",
   "execution_count": 29,
   "metadata": {},
   "outputs": [],
   "source": [
    "order_df = spark.read.json(r\"C:\\Users\\Kshitij kadu\\Desktop\\retail\\orders\")"
   ]
  },
  {
   "cell_type": "code",
   "execution_count": 30,
   "metadata": {
    "scrolled": true
   },
   "outputs": [
    {
     "data": {
      "text/plain": [
       "68883"
      ]
     },
     "execution_count": 30,
     "metadata": {},
     "output_type": "execute_result"
    }
   ],
   "source": [
    "order_df.count()"
   ]
  },
  {
   "cell_type": "code",
   "execution_count": 31,
   "metadata": {},
   "outputs": [
    {
     "name": "stdout",
     "output_type": "stream",
     "text": [
      "root\n",
      " |-- order_customer_id: long (nullable = true)\n",
      " |-- order_date: string (nullable = true)\n",
      " |-- order_id: long (nullable = true)\n",
      " |-- order_status: string (nullable = true)\n",
      "\n"
     ]
    }
   ],
   "source": [
    "order_df.printSchema()"
   ]
  },
  {
   "cell_type": "code",
   "execution_count": null,
   "metadata": {},
   "outputs": [],
   "source": []
  },
  {
   "cell_type": "code",
   "execution_count": null,
   "metadata": {},
   "outputs": [],
   "source": []
  },
  {
   "cell_type": "code",
   "execution_count": null,
   "metadata": {},
   "outputs": [],
   "source": []
  },
  {
   "cell_type": "code",
   "execution_count": null,
   "metadata": {},
   "outputs": [],
   "source": []
  },
  {
   "cell_type": "code",
   "execution_count": 8,
   "metadata": {},
   "outputs": [],
   "source": [
    "customer_df = spark.read.json(r\"C:\\Users\\Kshitij kadu\\Desktop\\retail\\customers\")"
   ]
  },
  {
   "cell_type": "code",
   "execution_count": 9,
   "metadata": {},
   "outputs": [
    {
     "data": {
      "text/plain": [
       "12435"
      ]
     },
     "execution_count": 9,
     "metadata": {},
     "output_type": "execute_result"
    }
   ],
   "source": [
    "customer_df.count()"
   ]
  },
  {
   "cell_type": "code",
   "execution_count": null,
   "metadata": {},
   "outputs": [],
   "source": []
  },
  {
   "cell_type": "code",
   "execution_count": 14,
   "metadata": {
    "scrolled": true
   },
   "outputs": [
    {
     "name": "stdout",
     "output_type": "stream",
     "text": [
      "root\n",
      " |-- order_customer_id: long (nullable = true)\n",
      " |-- order_date: string (nullable = true)\n",
      " |-- order_id: long (nullable = true)\n",
      " |-- order_status: string (nullable = true)\n",
      "\n"
     ]
    }
   ],
   "source": [
    "order_df.printSchema()"
   ]
  },
  {
   "cell_type": "code",
   "execution_count": 96,
   "metadata": {},
   "outputs": [],
   "source": [
    "from pyspark.sql.functions import date_format, count, lit, col"
   ]
  },
  {
   "cell_type": "code",
   "execution_count": 43,
   "metadata": {},
   "outputs": [
    {
     "name": "stdout",
     "output_type": "stream",
     "text": [
      "root\n",
      " |-- order_customer_id: long (nullable = true)\n",
      " |-- order_date: string (nullable = true)\n",
      " |-- order_id: long (nullable = true)\n",
      " |-- order_status: string (nullable = true)\n",
      "\n"
     ]
    }
   ],
   "source": [
    "order_df.printSchema()"
   ]
  },
  {
   "cell_type": "code",
   "execution_count": 42,
   "metadata": {},
   "outputs": [
    {
     "name": "stdout",
     "output_type": "stream",
     "text": [
      "root\n",
      " |-- customer_city: string (nullable = true)\n",
      " |-- customer_email: string (nullable = true)\n",
      " |-- customer_fname: string (nullable = true)\n",
      " |-- customer_id: long (nullable = true)\n",
      " |-- customer_lname: string (nullable = true)\n",
      " |-- customer_password: string (nullable = true)\n",
      " |-- customer_state: string (nullable = true)\n",
      " |-- customer_street: string (nullable = true)\n",
      " |-- customer_zipcode: string (nullable = true)\n",
      "\n"
     ]
    }
   ],
   "source": [
    "customer_df.printSchema()"
   ]
  },
  {
   "cell_type": "code",
   "execution_count": 54,
   "metadata": {},
   "outputs": [],
   "source": [
    "jan_2014_orders = order_df.withColumn(\"order_date\", date_format(\"order_date\",\"MMyyyy\")).filter(\"order_date='012014'\")"
   ]
  },
  {
   "cell_type": "code",
   "execution_count": 58,
   "metadata": {},
   "outputs": [],
   "source": [
    "joined_df = jan_2014_orders.join(customer_df, jan_2014_orders[\"order_customer_id\"] == customer_df[\"customer_id\"])"
   ]
  },
  {
   "cell_type": "code",
   "execution_count": 99,
   "metadata": {},
   "outputs": [
    {
     "name": "stdout",
     "output_type": "stream",
     "text": [
      "+-----------+--------------+--------------+-----------+\n",
      "|customer_id|customer_fname|customer_lname|order_count|\n",
      "+-----------+--------------+--------------+-----------+\n",
      "|       8622|       Shirley|         Smith|          5|\n",
      "|       9676|       Theresa|         Smith|          5|\n",
      "|          7|       Melissa|        Wilcox|          4|\n",
      "|        222|         Frank|          Ruiz|          4|\n",
      "|       2444|       Kenneth|         Smith|          4|\n",
      "|       2485|          Mary|     Hernandez|          4|\n",
      "|       2555|          Mary|          Long|          4|\n",
      "|       3128|         Karen|        Turner|          4|\n",
      "|       3199|        Ashley|     Hernandez|          4|\n",
      "|       3610|        Jordan|         Smith|          4|\n",
      "|       3710|        Ashley|         Smith|          4|\n",
      "|       3758|         Scott|         Smith|          4|\n",
      "|       4618|        Andrea|         Smith|          4|\n",
      "|       5583|          Mary|       Skinner|          4|\n",
      "|       6341|        Daniel|         Smith|          4|\n",
      "|       6404|         Dylan|         Smith|          4|\n",
      "|       7439|          Mary|        Flores|          4|\n",
      "|       7515|          Mary|         Smith|          4|\n",
      "|       7758|         Joyce|          Howe|          4|\n",
      "|       8135|          Mary|       Stevens|          4|\n",
      "+-----------+--------------+--------------+-----------+\n",
      "only showing top 20 rows\n",
      "\n"
     ]
    }
   ],
   "source": [
    "joined_df.groupBy(\"customer_id\", \"customer_fname\", \"customer_lname\").\\\n",
    "       agg(count(lit(\"1\")).alias(\"order_count\")).orderBy(col(\"order_count\").desc(), \"customer_id\").show()"
   ]
  },
  {
   "cell_type": "code",
   "execution_count": 100,
   "metadata": {},
   "outputs": [
    {
     "name": "stdout",
     "output_type": "stream",
     "text": [
      "root\n",
      " |-- order_customer_id: long (nullable = true)\n",
      " |-- order_date: string (nullable = true)\n",
      " |-- order_id: long (nullable = true)\n",
      " |-- order_status: string (nullable = true)\n",
      "\n"
     ]
    }
   ],
   "source": [
    "order_df.printSchema()"
   ]
  },
  {
   "cell_type": "code",
   "execution_count": null,
   "metadata": {},
   "outputs": [],
   "source": [
    "filter"
   ]
  },
  {
   "cell_type": "code",
   "execution_count": 103,
   "metadata": {},
   "outputs": [
    {
     "name": "stdout",
     "output_type": "stream",
     "text": [
      "+-----------------+--------------------+--------+------------+\n",
      "|order_customer_id|          order_date|order_id|order_status|\n",
      "+-----------------+--------------------+--------+------------+\n",
      "|            12111|2013-07-25 00:00:...|       3|    COMPLETE|\n",
      "|            11318|2013-07-25 00:00:...|       5|    COMPLETE|\n",
      "|             7130|2013-07-25 00:00:...|       6|    COMPLETE|\n",
      "|             4530|2013-07-25 00:00:...|       7|    COMPLETE|\n",
      "|             2568|2013-07-25 00:00:...|      15|    COMPLETE|\n",
      "|             2667|2013-07-25 00:00:...|      17|    COMPLETE|\n",
      "|              333|2013-07-25 00:00:...|      22|    COMPLETE|\n",
      "|             7562|2013-07-25 00:00:...|      26|    COMPLETE|\n",
      "|              656|2013-07-25 00:00:...|      28|    COMPLETE|\n",
      "|             3960|2013-07-25 00:00:...|      32|    COMPLETE|\n",
      "|             4840|2013-07-25 00:00:...|      35|    COMPLETE|\n",
      "|             2636|2013-07-25 00:00:...|      45|    COMPLETE|\n",
      "|            10519|2013-07-25 00:00:...|      56|    COMPLETE|\n",
      "|             1148|2013-07-25 00:00:...|      63|    COMPLETE|\n",
      "|             5903|2013-07-25 00:00:...|      65|    COMPLETE|\n",
      "|             1406|2013-07-25 00:00:...|      67|    COMPLETE|\n",
      "|             8646|2013-07-25 00:00:...|      71|    COMPLETE|\n",
      "|             4349|2013-07-25 00:00:...|      72|    COMPLETE|\n",
      "|             6898|2013-07-25 00:00:...|      76|    COMPLETE|\n",
      "|             3007|2013-07-25 00:00:...|      80|    COMPLETE|\n",
      "+-----------------+--------------------+--------+------------+\n",
      "only showing top 20 rows\n",
      "\n"
     ]
    }
   ],
   "source": [
    "order_df.filter(\"order_status='COMPLETE'\").show()"
   ]
  },
  {
   "cell_type": "code",
   "execution_count": 104,
   "metadata": {
    "scrolled": true
   },
   "outputs": [
    {
     "name": "stdout",
     "output_type": "stream",
     "text": [
      "+-----------------+--------------------+--------+------------+\n",
      "|order_customer_id|          order_date|order_id|order_status|\n",
      "+-----------------+--------------------+--------+------------+\n",
      "|              333|2013-07-25 00:00:...|      22|    COMPLETE|\n",
      "|              656|2013-07-25 00:00:...|      28|    COMPLETE|\n",
      "|              610|2013-07-26 00:00:...|     126|    COMPLETE|\n",
      "|              384|2013-07-26 00:00:...|     175|    COMPLETE|\n",
      "|              210|2013-07-26 00:00:...|     184|    COMPLETE|\n",
      "|              173|2013-07-26 00:00:...|     247|    COMPLETE|\n",
      "|               45|2013-07-26 00:00:...|     253|    COMPLETE|\n",
      "|              230|2013-07-26 00:00:...|     264|    COMPLETE|\n",
      "|              815|2013-07-26 00:00:...|     271|    COMPLETE|\n",
      "|              137|2013-07-26 00:00:...|     306|    COMPLETE|\n",
      "|              410|2013-07-26 00:00:...|     311|    COMPLETE|\n",
      "|               76|2013-07-26 00:00:...|     324|    COMPLETE|\n",
      "|              189|2013-07-27 00:00:...|     369|    COMPLETE|\n",
      "|              776|2013-07-27 00:00:...|     372|    COMPLETE|\n",
      "|              615|2013-07-27 00:00:...|     496|    COMPLETE|\n",
      "|              846|2013-07-27 00:00:...|     497|    COMPLETE|\n",
      "|               66|2013-07-28 00:00:...|     535|    COMPLETE|\n",
      "|              121|2013-07-28 00:00:...|     540|    COMPLETE|\n",
      "|              460|2013-07-28 00:00:...|     613|    COMPLETE|\n",
      "|              286|2013-07-28 00:00:...|     654|    COMPLETE|\n",
      "+-----------------+--------------------+--------+------------+\n",
      "only showing top 20 rows\n",
      "\n"
     ]
    }
   ],
   "source": [
    "order_df.filter(\"order_status='COMPLETE' AND order_customer_id<=1000\").show()"
   ]
  },
  {
   "cell_type": "code",
   "execution_count": null,
   "metadata": {},
   "outputs": [],
   "source": []
  },
  {
   "cell_type": "code",
   "execution_count": null,
   "metadata": {},
   "outputs": [],
   "source": []
  },
  {
   "cell_type": "code",
   "execution_count": null,
   "metadata": {},
   "outputs": [],
   "source": []
  },
  {
   "cell_type": "code",
   "execution_count": null,
   "metadata": {},
   "outputs": [],
   "source": []
  },
  {
   "cell_type": "code",
   "execution_count": null,
   "metadata": {},
   "outputs": [],
   "source": []
  },
  {
   "cell_type": "code",
   "execution_count": null,
   "metadata": {},
   "outputs": [],
   "source": []
  },
  {
   "cell_type": "code",
   "execution_count": null,
   "metadata": {},
   "outputs": [],
   "source": []
  },
  {
   "cell_type": "code",
   "execution_count": null,
   "metadata": {},
   "outputs": [],
   "source": []
  },
  {
   "cell_type": "code",
   "execution_count": null,
   "metadata": {},
   "outputs": [],
   "source": []
  },
  {
   "cell_type": "code",
   "execution_count": 15,
   "metadata": {},
   "outputs": [],
   "source": [
    "employees = [\n",
    "    (1, \"Scott\", \"Tiger\", 1000.0, \n",
    "      \"united states\", \"+1 123 456 7890\", \"123 45 6789\"\n",
    "    ),\n",
    "     (2, \"Henry\", \"Ford\", 1250.0, \n",
    "      \"India\", \"+91 234 567 8901\", \"456 78 9123\"\n",
    "     ),\n",
    "     (3, \"Nick\", \"Junior\", 750.0, \n",
    "      \"united KINGDOM\", \"+44 111 111 1111\", \"222 33 4444\"\n",
    "     ),\n",
    "     (4, \"Bill\", \"Gomes\", 1500.0, \n",
    "      \"AUSTRALIA\", \"+61 987 654 3210\", \"789 12 6118\"\n",
    "     )\n",
    "]"
   ]
  },
  {
   "cell_type": "code",
   "execution_count": null,
   "metadata": {},
   "outputs": [],
   "source": []
  },
  {
   "cell_type": "code",
   "execution_count": 21,
   "metadata": {},
   "outputs": [],
   "source": [
    "emp_df = spark.createDataFrame(employees,\n",
    "                     schema = \"\"\"empid INT, first_name STRING, last_name STRING,\n",
    "                                salary FLOAT, country STRING, contact_num STRING, ref_num STRING\"\"\")"
   ]
  },
  {
   "cell_type": "code",
   "execution_count": 22,
   "metadata": {},
   "outputs": [
    {
     "name": "stdout",
     "output_type": "stream",
     "text": [
      "+-----+----------+---------+------+--------------+----------------+-----------+\n",
      "|empid|first_name|last_name|salary|       country|     contact_num|    ref_num|\n",
      "+-----+----------+---------+------+--------------+----------------+-----------+\n",
      "|    1|     Scott|    Tiger|1000.0| united states| +1 123 456 7890|123 45 6789|\n",
      "|    2|     Henry|     Ford|1250.0|         India|+91 234 567 8901|456 78 9123|\n",
      "|    3|      Nick|   Junior| 750.0|united KINGDOM|+44 111 111 1111|222 33 4444|\n",
      "|    4|      Bill|    Gomes|1500.0|     AUSTRALIA|+61 987 654 3210|789 12 6118|\n",
      "+-----+----------+---------+------+--------------+----------------+-----------+\n",
      "\n"
     ]
    }
   ],
   "source": [
    "emp_df.show()"
   ]
  },
  {
   "cell_type": "code",
   "execution_count": 17,
   "metadata": {},
   "outputs": [
    {
     "name": "stdout",
     "output_type": "stream",
     "text": [
      "+--------------------+\n",
      "|            function|\n",
      "+--------------------+\n",
      "|                   !|\n",
      "|                  !=|\n",
      "|                   %|\n",
      "|                   &|\n",
      "|                   *|\n",
      "|                   +|\n",
      "|                   -|\n",
      "|                   /|\n",
      "|                   <|\n",
      "|                  <=|\n",
      "|                 <=>|\n",
      "|                  <>|\n",
      "|                   =|\n",
      "|                  ==|\n",
      "|                   >|\n",
      "|                  >=|\n",
      "|                   ^|\n",
      "|                 abs|\n",
      "|                acos|\n",
      "|               acosh|\n",
      "|          add_months|\n",
      "|           aggregate|\n",
      "|                 and|\n",
      "|                 any|\n",
      "|approx_count_dist...|\n",
      "|   approx_percentile|\n",
      "|               array|\n",
      "|      array_contains|\n",
      "|      array_distinct|\n",
      "|        array_except|\n",
      "|     array_intersect|\n",
      "|          array_join|\n",
      "|           array_max|\n",
      "|           array_min|\n",
      "|      array_position|\n",
      "|        array_remove|\n",
      "|        array_repeat|\n",
      "|          array_sort|\n",
      "|         array_union|\n",
      "|      arrays_overlap|\n",
      "|          arrays_zip|\n",
      "|               ascii|\n",
      "|                asin|\n",
      "|               asinh|\n",
      "|         assert_true|\n",
      "|                atan|\n",
      "|               atan2|\n",
      "|               atanh|\n",
      "|                 avg|\n",
      "|              base64|\n",
      "|             between|\n",
      "|              bigint|\n",
      "|                 bin|\n",
      "|              binary|\n",
      "|             bit_and|\n",
      "|           bit_count|\n",
      "|          bit_length|\n",
      "|              bit_or|\n",
      "|             bit_xor|\n",
      "|            bool_and|\n",
      "|             bool_or|\n",
      "|             boolean|\n",
      "|              bround|\n",
      "|         cardinality|\n",
      "|                case|\n",
      "|                cast|\n",
      "|                cbrt|\n",
      "|                ceil|\n",
      "|             ceiling|\n",
      "|                char|\n",
      "|         char_length|\n",
      "|    character_length|\n",
      "|                 chr|\n",
      "|            coalesce|\n",
      "|        collect_list|\n",
      "|         collect_set|\n",
      "|              concat|\n",
      "|           concat_ws|\n",
      "|                conv|\n",
      "|                corr|\n",
      "|                 cos|\n",
      "|                cosh|\n",
      "|                 cot|\n",
      "|               count|\n",
      "|            count_if|\n",
      "|    count_min_sketch|\n",
      "|           covar_pop|\n",
      "|          covar_samp|\n",
      "|               crc32|\n",
      "|                cube|\n",
      "|           cume_dist|\n",
      "|     current_catalog|\n",
      "|    current_database|\n",
      "|        current_date|\n",
      "|   current_timestamp|\n",
      "|    current_timezone|\n",
      "|                date|\n",
      "|            date_add|\n",
      "|         date_format|\n",
      "| date_from_unix_date|\n",
      "|           date_part|\n",
      "|            date_sub|\n",
      "|          date_trunc|\n",
      "|            datediff|\n",
      "|                 day|\n",
      "|          dayofmonth|\n",
      "|           dayofweek|\n",
      "|           dayofyear|\n",
      "|             decimal|\n",
      "|              decode|\n",
      "|             degrees|\n",
      "|          dense_rank|\n",
      "|                 div|\n",
      "|              double|\n",
      "|                   e|\n",
      "|          element_at|\n",
      "|                 elt|\n",
      "|              encode|\n",
      "|               every|\n",
      "|              exists|\n",
      "|                 exp|\n",
      "|             explode|\n",
      "|       explode_outer|\n",
      "|               expm1|\n",
      "|             extract|\n",
      "|           factorial|\n",
      "|              filter|\n",
      "|         find_in_set|\n",
      "|               first|\n",
      "|         first_value|\n",
      "|             flatten|\n",
      "|               float|\n",
      "|               floor|\n",
      "|              forall|\n",
      "|       format_number|\n",
      "|       format_string|\n",
      "|            from_csv|\n",
      "|           from_json|\n",
      "|       from_unixtime|\n",
      "|  from_utc_timestamp|\n",
      "|     get_json_object|\n",
      "|            greatest|\n",
      "|            grouping|\n",
      "|         grouping_id|\n",
      "|                hash|\n",
      "|                 hex|\n",
      "|                hour|\n",
      "|               hypot|\n",
      "|                  if|\n",
      "|              ifnull|\n",
      "|                  in|\n",
      "|             initcap|\n",
      "|              inline|\n",
      "|        inline_outer|\n",
      "|input_file_block_...|\n",
      "|input_file_block_...|\n",
      "|     input_file_name|\n",
      "|               instr|\n",
      "|                 int|\n",
      "|               isnan|\n",
      "|           isnotnull|\n",
      "|              isnull|\n",
      "|         java_method|\n",
      "|   json_array_length|\n",
      "|    json_object_keys|\n",
      "|          json_tuple|\n",
      "|            kurtosis|\n",
      "|                 lag|\n",
      "|                last|\n",
      "|            last_day|\n",
      "|          last_value|\n",
      "|               lcase|\n",
      "|                lead|\n",
      "|               least|\n",
      "|                left|\n",
      "|              length|\n",
      "|         levenshtein|\n",
      "|                like|\n",
      "|                  ln|\n",
      "|              locate|\n",
      "|                 log|\n",
      "|               log10|\n",
      "|               log1p|\n",
      "|                log2|\n",
      "|               lower|\n",
      "|                lpad|\n",
      "|               ltrim|\n",
      "|           make_date|\n",
      "|       make_interval|\n",
      "|      make_timestamp|\n",
      "|                 map|\n",
      "|          map_concat|\n",
      "|         map_entries|\n",
      "|          map_filter|\n",
      "|     map_from_arrays|\n",
      "|    map_from_entries|\n",
      "|            map_keys|\n",
      "|          map_values|\n",
      "|        map_zip_with|\n",
      "|                 max|\n",
      "|              max_by|\n",
      "|                 md5|\n",
      "|                mean|\n",
      "|                 min|\n",
      "|              min_by|\n",
      "|              minute|\n",
      "|                 mod|\n",
      "|monotonically_inc...|\n",
      "|               month|\n",
      "|      months_between|\n",
      "|        named_struct|\n",
      "|               nanvl|\n",
      "|            negative|\n",
      "|            next_day|\n",
      "|                 not|\n",
      "|                 now|\n",
      "|           nth_value|\n",
      "|               ntile|\n",
      "|              nullif|\n",
      "|                 nvl|\n",
      "|                nvl2|\n",
      "|        octet_length|\n",
      "|                  or|\n",
      "|             overlay|\n",
      "|           parse_url|\n",
      "|        percent_rank|\n",
      "|          percentile|\n",
      "|   percentile_approx|\n",
      "|                  pi|\n",
      "|                pmod|\n",
      "|          posexplode|\n",
      "|    posexplode_outer|\n",
      "|            position|\n",
      "|            positive|\n",
      "|                 pow|\n",
      "|               power|\n",
      "|              printf|\n",
      "|             quarter|\n",
      "|             radians|\n",
      "|         raise_error|\n",
      "|                rand|\n",
      "|               randn|\n",
      "|              random|\n",
      "|                rank|\n",
      "|             reflect|\n",
      "|      regexp_extract|\n",
      "|  regexp_extract_all|\n",
      "|      regexp_replace|\n",
      "|              repeat|\n",
      "|             replace|\n",
      "|             reverse|\n",
      "|               right|\n",
      "|                rint|\n",
      "|               rlike|\n",
      "|              rollup|\n",
      "|               round|\n",
      "|          row_number|\n",
      "|                rpad|\n",
      "|               rtrim|\n",
      "|       schema_of_csv|\n",
      "|      schema_of_json|\n",
      "|              second|\n",
      "|           sentences|\n",
      "|            sequence|\n",
      "|                 sha|\n",
      "|                sha1|\n",
      "|                sha2|\n",
      "|           shiftleft|\n",
      "|          shiftright|\n",
      "|  shiftrightunsigned|\n",
      "|             shuffle|\n",
      "|                sign|\n",
      "|              signum|\n",
      "|                 sin|\n",
      "|                sinh|\n",
      "|                size|\n",
      "|            skewness|\n",
      "|               slice|\n",
      "|            smallint|\n",
      "|                some|\n",
      "|          sort_array|\n",
      "|             soundex|\n",
      "|               space|\n",
      "|  spark_partition_id|\n",
      "|               split|\n",
      "|                sqrt|\n",
      "|               stack|\n",
      "|                 std|\n",
      "|              stddev|\n",
      "|          stddev_pop|\n",
      "|         stddev_samp|\n",
      "|          str_to_map|\n",
      "|              string|\n",
      "|              struct|\n",
      "|              substr|\n",
      "|           substring|\n",
      "+--------------------+\n",
      "only showing top 296 rows\n",
      "\n"
     ]
    }
   ],
   "source": [
    "spark.sql(\"show functions\").show(296)"
   ]
  },
  {
   "cell_type": "code",
   "execution_count": null,
   "metadata": {},
   "outputs": [],
   "source": []
  }
 ],
 "metadata": {
  "kernelspec": {
   "display_name": "Python 3",
   "language": "python",
   "name": "python3"
  },
  "language_info": {
   "codemirror_mode": {
    "name": "ipython",
    "version": 3
   },
   "file_extension": ".py",
   "mimetype": "text/x-python",
   "name": "python",
   "nbconvert_exporter": "python",
   "pygments_lexer": "ipython3",
   "version": "3.7.4"
  }
 },
 "nbformat": 4,
 "nbformat_minor": 2
}
