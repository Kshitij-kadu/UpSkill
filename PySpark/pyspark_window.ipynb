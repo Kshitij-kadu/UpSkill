{
 "cells": [
  {
   "cell_type": "code",
   "execution_count": 1,
   "metadata": {},
   "outputs": [],
   "source": [
    "import findspark"
   ]
  },
  {
   "cell_type": "code",
   "execution_count": 2,
   "metadata": {},
   "outputs": [],
   "source": [
    "findspark.init()"
   ]
  },
  {
   "cell_type": "code",
   "execution_count": null,
   "metadata": {},
   "outputs": [],
   "source": []
  },
  {
   "cell_type": "code",
   "execution_count": 3,
   "metadata": {},
   "outputs": [],
   "source": [
    "from pyspark.sql import SparkSession"
   ]
  },
  {
   "cell_type": "code",
   "execution_count": 4,
   "metadata": {},
   "outputs": [],
   "source": [
    "spark = SparkSession.builder.master('local').appName(\"practice\").getOrCreate()"
   ]
  },
  {
   "cell_type": "code",
   "execution_count": 5,
   "metadata": {},
   "outputs": [
    {
     "data": {
      "text/html": [
       "\n",
       "            <div>\n",
       "                <p><b>SparkSession - in-memory</b></p>\n",
       "                \n",
       "        <div>\n",
       "            <p><b>SparkContext</b></p>\n",
       "\n",
       "            <p><a href=\"http://host.docker.internal:4040\">Spark UI</a></p>\n",
       "\n",
       "            <dl>\n",
       "              <dt>Version</dt>\n",
       "                <dd><code>v3.1.3</code></dd>\n",
       "              <dt>Master</dt>\n",
       "                <dd><code>local</code></dd>\n",
       "              <dt>AppName</dt>\n",
       "                <dd><code>practice</code></dd>\n",
       "            </dl>\n",
       "        </div>\n",
       "        \n",
       "            </div>\n",
       "        "
      ],
      "text/plain": [
       "<pyspark.sql.session.SparkSession at 0x257a39e4748>"
      ]
     },
     "execution_count": 5,
     "metadata": {},
     "output_type": "execute_result"
    }
   ],
   "source": [
    "spark"
   ]
  },
  {
   "cell_type": "code",
   "execution_count": 27,
   "metadata": {},
   "outputs": [
    {
     "name": "stdout",
     "output_type": "stream",
     "text": [
      "root\n",
      " |-- Emp ID: integer (nullable = true)\n",
      " |-- Name Prefix: string (nullable = true)\n",
      " |-- First Name: string (nullable = true)\n",
      " |-- Middle Initial: string (nullable = true)\n",
      " |-- Last Name: string (nullable = true)\n",
      " |-- Gender: string (nullable = true)\n",
      " |-- E Mail: string (nullable = true)\n",
      " |-- Father's Name: string (nullable = true)\n",
      " |-- Mother's Name: string (nullable = true)\n",
      " |-- Mother's Maiden Name: string (nullable = true)\n",
      " |-- Date of Birth: string (nullable = true)\n",
      " |-- Time of Birth: string (nullable = true)\n",
      " |-- Age in Yrs.: double (nullable = true)\n",
      " |-- Weight in Kgs.: integer (nullable = true)\n",
      " |-- Date of Joining: string (nullable = true)\n",
      " |-- Quarter of Joining: string (nullable = true)\n",
      " |-- Half of Joining: string (nullable = true)\n",
      " |-- Year of Joining: integer (nullable = true)\n",
      " |-- Month of Joining: integer (nullable = true)\n",
      " |-- Month Name of Joining: string (nullable = true)\n",
      " |-- Short Month: string (nullable = true)\n",
      " |-- Day of Joining: integer (nullable = true)\n",
      " |-- DOW of Joining: string (nullable = true)\n",
      " |-- Short DOW: string (nullable = true)\n",
      " |-- Age in Company (Years): double (nullable = true)\n",
      " |-- Salary: integer (nullable = true)\n",
      " |-- Last % Hike: string (nullable = true)\n",
      " |-- SSN: string (nullable = true)\n",
      " |-- Phone No. : string (nullable = true)\n",
      " |-- Place Name: string (nullable = true)\n",
      " |-- County: string (nullable = true)\n",
      " |-- City: string (nullable = true)\n",
      " |-- State: string (nullable = true)\n",
      " |-- Zip: integer (nullable = true)\n",
      " |-- Region: string (nullable = true)\n",
      " |-- User Name: string (nullable = true)\n",
      " |-- Password: string (nullable = true)\n",
      "\n"
     ]
    }
   ],
   "source": [
    "original_data = spark.read.csv(r'C:\\Users\\Kshitij kadu\\Desktop\\sample_data\\Records.csv', header=True, inferSchema=True).\\\n",
    "                printSchema()"
   ]
  },
  {
   "cell_type": "code",
   "execution_count": 28,
   "metadata": {},
   "outputs": [],
   "source": [
    "emp_df = spark.read.csv(r'C:\\Users\\Kshitij kadu\\Desktop\\sample_data\\Records.csv', header=True, inferSchema=True).\\\n",
    "         select(\"Emp ID\", \"First Name\", \"Last Name\", \"Gender\", \"Date of Birth\", \"Salary\",\"County\",\"Year of Joining\")"
   ]
  },
  {
   "cell_type": "code",
   "execution_count": 29,
   "metadata": {
    "scrolled": true
   },
   "outputs": [
    {
     "name": "stdout",
     "output_type": "stream",
     "text": [
      "+------+----------+---------+------+-------------+------+------------+---------------+\n",
      "|Emp ID|First Name|Last Name|Gender|Date of Birth|Salary|      County|Year of Joining|\n",
      "+------+----------+---------+------+-------------+------+------------+---------------+\n",
      "|198429|  Serafina|Bumgarner|     F|    9/21/1982| 69294|  Chautauqua|           2008|\n",
      "|178566|  Juliette|     Rojo|     F|     5/8/1967|193912|  Montgomery|           2011|\n",
      "|647173|     Milan| Krawczyk|     M|     4/4/1980|123681|Anne Arundel|           2012|\n",
      "|847634|     Elmer|    Jason|     M|     4/9/1996| 93504|  Washington|           2017|\n",
      "|260736|     Zelda|   Forest|     F|   11/27/1959|176642| Schenectady|           2014|\n",
      "|811306|     Rhett|      Wan|     M|    7/14/1976| 59406|      Fresno|           2009|\n",
      "|956633|       Hal|   Farrow|     M|    3/15/1967|164580|  Stanislaus|           1991|\n",
      "|629539|       Del|Fernandez|     M|    8/13/1991|138662|     Portage|           2016|\n",
      "|784160|     Corey|  Jackman|     M|    4/12/1959| 57616|     Jamaica|           1984|\n",
      "|744723|      Bibi|  Paddock|     F|   10/20/1991| 87148|     Overton|           2016|\n",
      "|423093|      Eric|  Manning|     M|    11/2/1980|149363|     Fayette|           2002|\n",
      "|207808|   Renetta|   Hafner|     F|    1/29/1975|180289|     Broward|           1998|\n",
      "|338634|       Paz|  Pearman|     F|    2/28/1960|144804|     Clayton|           1982|\n",
      "|324573|    Ardath|   Forman|     F|   11/12/1982|189373|      Clarke|           2009|\n",
      "|953724|     Nanci|   Osorio|     F|     7/9/1982| 71321|     Grafton|           2003|\n",
      "|138700|  Maricela|   Simard|     F|    7/21/1988| 88513|     Sampson|           2016|\n",
      "|644265|   Avelina|   Stoner|     F|    10/1/1988|157826|Westmoreland|           2010|\n",
      "|223871| Christene| Mattison|     F|    9/14/1990|177224|      Jasper|           2015|\n",
      "|807262|    Stefan|    Maeda|     M|    3/23/1990| 67028| St. Tammany|           2011|\n",
      "|368234|   Gillian|   Winter|     F|    1/17/1960|103619|       Otero|           1984|\n",
      "+------+----------+---------+------+-------------+------+------------+---------------+\n",
      "only showing top 20 rows\n",
      "\n"
     ]
    }
   ],
   "source": [
    "emp_df.show()"
   ]
  },
  {
   "cell_type": "code",
   "execution_count": 30,
   "metadata": {},
   "outputs": [
    {
     "name": "stdout",
     "output_type": "stream",
     "text": [
      "root\n",
      " |-- Emp ID: integer (nullable = true)\n",
      " |-- First Name: string (nullable = true)\n",
      " |-- Last Name: string (nullable = true)\n",
      " |-- Gender: string (nullable = true)\n",
      " |-- Date of Birth: string (nullable = true)\n",
      " |-- Salary: integer (nullable = true)\n",
      " |-- County: string (nullable = true)\n",
      " |-- Year of Joining: integer (nullable = true)\n",
      "\n"
     ]
    }
   ],
   "source": [
    "emp_df.printSchema()"
   ]
  },
  {
   "cell_type": "code",
   "execution_count": 31,
   "metadata": {},
   "outputs": [],
   "source": [
    "from pyspark.sql.functions import col, lit\n",
    "from pyspark.sql.functions import rank, dense_rank, row_number\n",
    "\n",
    "from pyspark.sql.window import Window"
   ]
  },
  {
   "cell_type": "code",
   "execution_count": null,
   "metadata": {},
   "outputs": [],
   "source": []
  },
  {
   "cell_type": "markdown",
   "metadata": {},
   "source": [
    "**get hightest paid emp in each country**"
   ]
  },
  {
   "cell_type": "code",
   "execution_count": 32,
   "metadata": {},
   "outputs": [],
   "source": [
    "spec = Window.partitionBy(\"county\").orderBy(col(\"Salary\").desc())"
   ]
  },
  {
   "cell_type": "code",
   "execution_count": 33,
   "metadata": {},
   "outputs": [
    {
     "name": "stdout",
     "output_type": "stream",
     "text": [
      "+------+----------+-----------+------+-------------+------+------------+---------------+-----+\n",
      "|Emp ID|First Name|  Last Name|Gender|Date of Birth|Salary|      County|Year of Joining|drank|\n",
      "+------+----------+-----------+------+-------------+------+------------+---------------+-----+\n",
      "|583316|     Kenna|   Rothrock|     F|     2/6/1959|199971|     Madison|           1985|    1|\n",
      "|506864|      Dick|        Sun|     M|    8/12/1959|199969|       Adair|           1987|    1|\n",
      "|621655|       Sol| Pellegrino|     M|     6/8/1986|199958|    Accomack|           2013|    1|\n",
      "|672252|       Jim|      Terry|     M|    1/18/1987|199954|Pottawatomie|           2010|    1|\n",
      "|916763|  Floretta|     Macias|     F|    5/26/1973|199952|      Beaver|           1994|    1|\n",
      "|404337|     Hosea|  Gustafson|     M|    11/4/1970|199952| Los Angeles|           2005|    1|\n",
      "|740463|    Lanita|      Myatt|     F|    3/18/1986|199907|  Otter Tail|           2016|    1|\n",
      "|566388|    Lennie|Baumgartner|     F|    6/30/1968|199892|      Fulton|           1996|    1|\n",
      "|854363|     Caleb|     Aiello|     M|     8/9/1960|199892|      Dallas|           1983|    1|\n",
      "|756069|    Latoya|    Donohoe|     F|   12/29/1988|199885|   Henderson|           2012|    1|\n",
      "|526499|     Tonia|     Villar|     F|     6/9/1963|199832|     Johnson|           2000|    1|\n",
      "|661572|   Coretta|  Middleton|     F|    6/14/1994|199828|    Jennings|           2017|    1|\n",
      "|404133|   Tabitha|   Mcdaniel|     F|     2/9/1968|199827|       Wayne|           2015|    1|\n",
      "|152267|      Kurt|     Deacon|     M|    9/10/1985|199823|    Plymouth|           2016|    1|\n",
      "|863289|    Stuart|    Herrick|     M|   12/13/1982|199819|     Chester|           2005|    1|\n",
      "|488166|    Halina|       Jack|     F|    9/24/1995|199806|   McCurtain|           2017|    1|\n",
      "|271745|   Terrell|      Fouts|     F|    2/27/1969|199767|   Milwaukee|           2011|    1|\n",
      "|932171|    Melisa|    Forsyth|     F|   11/20/1992|199766|       Logan|           2013|    1|\n",
      "|578226|  Georgann|      Byrne|     F|     9/7/1990|199728|  Cumberland|           2017|    1|\n",
      "|607650|     Irwin|       Hung|     M|    12/9/1959|199712|  Montgomery|           2015|    1|\n",
      "+------+----------+-----------+------+-------------+------+------------+---------------+-----+\n",
      "only showing top 20 rows\n",
      "\n"
     ]
    }
   ],
   "source": [
    "emp_df.select(\"*\").\\\n",
    "      withColumn(\"drank\", dense_rank().over(spec)).\\\n",
    "      filter(\"drank=1\").orderBy(col(\"Salary\").desc()).show()"
   ]
  },
  {
   "cell_type": "code",
   "execution_count": 63,
   "metadata": {},
   "outputs": [
    {
     "name": "stdout",
     "output_type": "stream",
     "text": [
      "+--------------------+-----------+-------+\n",
      "|              County|sum(Salary)|    sal|\n",
      "+--------------------+-----------+-------+\n",
      "|               Bucks|    1798995|1798995|\n",
      "|              Grimes|     133943| 133943|\n",
      "|           Worcester|    2605581|2605581|\n",
      "|            Thurston|     303027| 303027|\n",
      "|Skagway-Hoonah-An...|     168821| 168821|\n",
      "|      East Feliciana|      77318|  77318|\n",
      "|                Utah|     286249| 286249|\n",
      "|               Tyler|     105695| 105695|\n",
      "|             Hanover|     258744| 258744|\n",
      "|          Charleston|    1094408|1094408|\n",
      "|             Shannon|     365807| 365807|\n",
      "|             Whigham|      85000|  85000|\n",
      "|            Montcalm|     725627| 725627|\n",
      "|                 Bow|     137317| 137317|\n",
      "|               Pasco|     805124| 805124|\n",
      "|            Angelina|     506885| 506885|\n",
      "|              Hawaii|     760690| 760690|\n",
      "|               Izard|     204622| 204622|\n",
      "|          Deer Lodge|     157902| 157902|\n",
      "|            Harrison|    1829477|1829477|\n",
      "+--------------------+-----------+-------+\n",
      "only showing top 20 rows\n",
      "\n"
     ]
    }
   ],
   "source": [
    "emp_df.groupBy(\"County\").sum(\"Salary\").withColumn(\"sal\", col(\"sum(Salary)\")).show()"
   ]
  },
  {
   "cell_type": "code",
   "execution_count": null,
   "metadata": {},
   "outputs": [],
   "source": []
  },
  {
   "cell_type": "code",
   "execution_count": null,
   "metadata": {},
   "outputs": [],
   "source": []
  },
  {
   "cell_type": "code",
   "execution_count": 64,
   "metadata": {},
   "outputs": [],
   "source": [
    "spec = Window.orderBy(col(\"Salary\").desc())"
   ]
  },
  {
   "cell_type": "code",
   "execution_count": 70,
   "metadata": {},
   "outputs": [
    {
     "name": "stdout",
     "output_type": "stream",
     "text": [
      "+------+----------+-----------+------+-------------+------+------------+---------------+-----+\n",
      "|Emp ID|First Name|  Last Name|Gender|Date of Birth|Salary|      County|Year of Joining|drank|\n",
      "+------+----------+-----------+------+-------------+------+------------+---------------+-----+\n",
      "|583316|     Kenna|   Rothrock|     F|     2/6/1959|199971|     Madison|           1985|    1|\n",
      "|506864|      Dick|        Sun|     M|    8/12/1959|199969|       Adair|           1987|    2|\n",
      "|621655|       Sol| Pellegrino|     M|     6/8/1986|199958|    Accomack|           2013|    3|\n",
      "|672252|       Jim|      Terry|     M|    1/18/1987|199954|Pottawatomie|           2010|    4|\n",
      "|404337|     Hosea|  Gustafson|     M|    11/4/1970|199952| Los Angeles|           2005|    5|\n",
      "|916763|  Floretta|     Macias|     F|    5/26/1973|199952|      Beaver|           1994|    5|\n",
      "|740463|    Lanita|      Myatt|     F|    3/18/1986|199907|  Otter Tail|           2016|    6|\n",
      "|854363|     Caleb|     Aiello|     M|     8/9/1960|199892|      Dallas|           1983|    7|\n",
      "|566388|    Lennie|Baumgartner|     F|    6/30/1968|199892|      Fulton|           1996|    7|\n",
      "|756069|    Latoya|    Donohoe|     F|   12/29/1988|199885|   Henderson|           2012|    8|\n",
      "|526499|     Tonia|     Villar|     F|     6/9/1963|199832|     Johnson|           2000|    9|\n",
      "|661572|   Coretta|  Middleton|     F|    6/14/1994|199828|    Jennings|           2017|   10|\n",
      "|404133|   Tabitha|   Mcdaniel|     F|     2/9/1968|199827|       Wayne|           2015|   11|\n",
      "|152267|      Kurt|     Deacon|     M|    9/10/1985|199823|    Plymouth|           2016|   12|\n",
      "|863289|    Stuart|    Herrick|     M|   12/13/1982|199819|     Chester|           2005|   13|\n",
      "|488166|    Halina|       Jack|     F|    9/24/1995|199806|   McCurtain|           2017|   14|\n",
      "|271745|   Terrell|      Fouts|     F|    2/27/1969|199767|   Milwaukee|           2011|   15|\n",
      "|932171|    Melisa|    Forsyth|     F|   11/20/1992|199766|       Logan|           2013|   16|\n",
      "|578226|  Georgann|      Byrne|     F|     9/7/1990|199728|  Cumberland|           2017|   17|\n",
      "|607650|     Irwin|       Hung|     M|    12/9/1959|199712|  Montgomery|           2015|   18|\n",
      "+------+----------+-----------+------+-------------+------+------------+---------------+-----+\n",
      "only showing top 20 rows\n",
      "\n"
     ]
    }
   ],
   "source": [
    "emp_df.select(\"*\").\\\n",
    "      withColumn(\"drank\", dense_rank().over(spec)).\\\n",
    "      orderBy(col(\"Salary\").desc()).show()"
   ]
  },
  {
   "cell_type": "code",
   "execution_count": null,
   "metadata": {},
   "outputs": [],
   "source": []
  },
  {
   "cell_type": "code",
   "execution_count": null,
   "metadata": {},
   "outputs": [],
   "source": []
  },
  {
   "cell_type": "code",
   "execution_count": null,
   "metadata": {},
   "outputs": [],
   "source": []
  },
  {
   "cell_type": "code",
   "execution_count": null,
   "metadata": {},
   "outputs": [],
   "source": []
  }
 ],
 "metadata": {
  "kernelspec": {
   "display_name": "Python 3",
   "language": "python",
   "name": "python3"
  },
  "language_info": {
   "codemirror_mode": {
    "name": "ipython",
    "version": 3
   },
   "file_extension": ".py",
   "mimetype": "text/x-python",
   "name": "python",
   "nbconvert_exporter": "python",
   "pygments_lexer": "ipython3",
   "version": "3.7.4"
  }
 },
 "nbformat": 4,
 "nbformat_minor": 2
}
