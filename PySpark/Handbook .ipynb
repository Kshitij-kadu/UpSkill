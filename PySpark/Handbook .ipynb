{
 "cells": [
  {
   "cell_type": "code",
   "execution_count": 1,
   "metadata": {},
   "outputs": [],
   "source": [
    "import findspark"
   ]
  },
  {
   "cell_type": "code",
   "execution_count": 2,
   "metadata": {},
   "outputs": [],
   "source": [
    "findspark.init()"
   ]
  },
  {
   "cell_type": "code",
   "execution_count": 3,
   "metadata": {},
   "outputs": [],
   "source": [
    "from pyspark.sql import SparkSession"
   ]
  },
  {
   "cell_type": "code",
   "execution_count": 4,
   "metadata": {},
   "outputs": [],
   "source": [
    "spark = SparkSession. \\\n",
    "            builder. \\\n",
    "            master('local'). \\\n",
    "            appName(\"practice\"). \\\n",
    "            getOrCreate()"
   ]
  },
  {
   "cell_type": "code",
   "execution_count": 5,
   "metadata": {},
   "outputs": [
    {
     "data": {
      "text/html": [
       "\n",
       "            <div>\n",
       "                <p><b>SparkSession - in-memory</b></p>\n",
       "                \n",
       "        <div>\n",
       "            <p><b>SparkContext</b></p>\n",
       "\n",
       "            <p><a href=\"http://host.docker.internal:4041\">Spark UI</a></p>\n",
       "\n",
       "            <dl>\n",
       "              <dt>Version</dt>\n",
       "                <dd><code>v3.1.3</code></dd>\n",
       "              <dt>Master</dt>\n",
       "                <dd><code>local</code></dd>\n",
       "              <dt>AppName</dt>\n",
       "                <dd><code>practice</code></dd>\n",
       "            </dl>\n",
       "        </div>\n",
       "        \n",
       "            </div>\n",
       "        "
      ],
      "text/plain": [
       "<pyspark.sql.session.SparkSession at 0x2235bce77c8>"
      ]
     },
     "execution_count": 5,
     "metadata": {},
     "output_type": "execute_result"
    }
   ],
   "source": [
    "spark"
   ]
  },
  {
   "cell_type": "code",
   "execution_count": null,
   "metadata": {},
   "outputs": [],
   "source": []
  },
  {
   "cell_type": "code",
   "execution_count": null,
   "metadata": {},
   "outputs": [],
   "source": [
    "empid|empname|managerid|salary|joining_date|gender\n",
    "1,\"Ram\",4,100,02-11-2021,\"M\"\n",
    "2,\"Raj\",3,80,02-11-2021,\"M\"\n",
    "3,\"Shehal\",4,120,02-01-2001,\"F\"\n",
    "4,\"Saiee\",5,150,02-01-2002,\"F\"\n",
    "5,\"Rakesh\",NULL,180,02-01-2003,\"M\"\n",
    "6,\"Rachna\",4,110,02-01-2004,\"F\"\n"
   ]
  },
  {
   "cell_type": "code",
   "execution_count": 6,
   "metadata": {},
   "outputs": [],
   "source": [
    "data = [ (1, \"Ram\", 4,100, \"02-11-2021\", \"M\"),\n",
    "         (2, \"Raj\", 3,80, \"02-11-2021\", \"M\"),\n",
    "         (3, \"Shehal\", 4, 120,\"02-01-2001\", \"F\"),\n",
    "         (4, \"Saiee\", 5, 150, \"02-01-2002\", \"F\"),\n",
    "         (5, \"Rakesh\", 0, 180,\"02-01-2003\", \"M\"),\n",
    "         (6, \"Rachna\", 4, 110,\"02-01-2004\", \"F\")\n",
    "       ]"
   ]
  },
  {
   "cell_type": "code",
   "execution_count": 7,
   "metadata": {},
   "outputs": [],
   "source": [
    "emp_df = spark.createDataFrame(data,\n",
    "                     schema = \"\"\"empid INT, empname STRING, managerid INT, salary INT, joining_date STRING, gender STRING \"\"\")"
   ]
  },
  {
   "cell_type": "code",
   "execution_count": 8,
   "metadata": {},
   "outputs": [
    {
     "name": "stdout",
     "output_type": "stream",
     "text": [
      "+-----+-------+---------+------+------------+------+\n",
      "|empid|empname|managerid|salary|joining_date|gender|\n",
      "+-----+-------+---------+------+------------+------+\n",
      "|    1|    Ram|        4|   100|  02-11-2021|     M|\n",
      "|    2|    Raj|        3|    80|  02-11-2021|     M|\n",
      "|    3| Shehal|        4|   120|  02-01-2001|     F|\n",
      "|    4|  Saiee|        5|   150|  02-01-2002|     F|\n",
      "|    5| Rakesh|        0|   180|  02-01-2003|     M|\n",
      "|    6| Rachna|        4|   110|  02-01-2004|     F|\n",
      "+-----+-------+---------+------+------------+------+\n",
      "\n"
     ]
    }
   ],
   "source": [
    "emp_df.show()"
   ]
  },
  {
   "cell_type": "code",
   "execution_count": 9,
   "metadata": {},
   "outputs": [
    {
     "name": "stdout",
     "output_type": "stream",
     "text": [
      "+-----+-------+---------+------+------------+------+----+\n",
      "|empid|empname|managerid|salary|joining_date|gender|year|\n",
      "+-----+-------+---------+------+------------+------+----+\n",
      "|    1|    Ram|        4|   100|  02-11-2021|     M|2021|\n",
      "|    2|    Raj|        3|    80|  02-11-2021|     M|2021|\n",
      "|    3| Shehal|        4|   120|  02-01-2001|     F|2001|\n",
      "|    4|  Saiee|        5|   150|  02-01-2002|     F|2002|\n",
      "|    5| Rakesh|        0|   180|  02-01-2003|     M|2003|\n",
      "|    6| Rachna|        4|   110|  02-01-2004|     F|2004|\n",
      "+-----+-------+---------+------+------------+------+----+\n",
      "\n"
     ]
    }
   ],
   "source": [
    "emp_df.withColumn(\"year\", emp_df.joining_date.substr(-4,4).cast(\"int\")).show()"
   ]
  },
  {
   "cell_type": "code",
   "execution_count": 10,
   "metadata": {},
   "outputs": [],
   "source": [
    "filtered_emp_df = emp_df.withColumn(\"year\", emp_df.joining_date.substr(-4,4).cast(\"int\")).\\\n",
    "                   filter(\"year > 2005\" and \"gender = 'M'\")"
   ]
  },
  {
   "cell_type": "code",
   "execution_count": 11,
   "metadata": {},
   "outputs": [
    {
     "name": "stdout",
     "output_type": "stream",
     "text": [
      "+-----+-------+---------+------+------------+------+----+\n",
      "|empid|empname|managerid|salary|joining_date|gender|year|\n",
      "+-----+-------+---------+------+------------+------+----+\n",
      "|    1|    Ram|        4|   100|  02-11-2021|     M|2021|\n",
      "|    2|    Raj|        3|    80|  02-11-2021|     M|2021|\n",
      "|    5| Rakesh|        0|   180|  02-01-2003|     M|2003|\n",
      "+-----+-------+---------+------+------------+------+----+\n",
      "\n"
     ]
    }
   ],
   "source": [
    "filtered_emp_df.show()"
   ]
  },
  {
   "cell_type": "code",
   "execution_count": null,
   "metadata": {},
   "outputs": [],
   "source": []
  }
 ],
 "metadata": {
  "kernelspec": {
   "display_name": "Python 3",
   "language": "python",
   "name": "python3"
  },
  "language_info": {
   "codemirror_mode": {
    "name": "ipython",
    "version": 3
   },
   "file_extension": ".py",
   "mimetype": "text/x-python",
   "name": "python",
   "nbconvert_exporter": "python",
   "pygments_lexer": "ipython3",
   "version": "3.7.4"
  }
 },
 "nbformat": 4,
 "nbformat_minor": 2
}
